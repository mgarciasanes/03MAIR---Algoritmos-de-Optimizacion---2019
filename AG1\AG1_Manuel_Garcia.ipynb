{
  "nbformat": 4,
  "nbformat_minor": 0,
  "metadata": {
    "colab": {
      "name": "AG1-Manuel_Garcia.ipynb",
      "version": "0.3.2",
      "provenance": [],
      "include_colab_link": true
    },
    "kernelspec": {
      "name": "python3",
      "display_name": "Python 3"
    }
  },
  "cells": [
    {
      "cell_type": "markdown",
      "metadata": {
        "id": "view-in-github",
        "colab_type": "text"
      },
      "source": [
        "<a href=\"https://colab.research.google.com/github/mgarciasanes/03MAIR---Algoritmos-de-Optimizacion---2019/blob/master/AG1%5CAG1_Manuel_Garcia.ipynb\" target=\"_parent\"><img src=\"https://colab.research.google.com/assets/colab-badge.svg\" alt=\"Open In Colab\"/></a>"
      ]
    },
    {
      "metadata": {
        "id": "mXI6vmEFEq8T",
        "colab_type": "text"
      },
      "cell_type": "markdown",
      "source": [
        "<h1>AG - Actividad Guiada 1 </h1>\n",
        "\n",
        "<h2> Manuel Garcia Sanes </h2>\n",
        "<br>\n",
        "\n",
        "https://github.com/mgarciasanes/03MAIR---Algoritmos-de-Optimizacion---2019/tree/master/AG1"
      ]
    },
    {
      "metadata": {
        "id": "i1PB6SF-xJAV",
        "colab_type": "code",
        "colab": {}
      },
      "cell_type": "code",
      "source": [
        "#Calculo de tiempo de ejecución\n",
        "from time import time\n",
        "#Función para calcular el tiempo de ejecución\n",
        "def calcular_tiempo(f):   \n",
        "    def wrapper(*args, **kwargs):        \n",
        "        inicio = time()       \n",
        "        resultado = f(*args, **kwargs)       \n",
        "        tiempo = time() - inicio\n",
        "        print(\"Tiempo de ejecución para algoritmo: \"+str(tiempo))\n",
        "        return resultado\n",
        "    return wrapper\n",
        "  \n",
        "  \n",
        "def calcular_tiempo_promedio(f):   \n",
        "    def wrapper(*args, **kwargs):        \n",
        "        resultados=[]\n",
        "        tiempos=[]\n",
        "        for i in range(1000):\n",
        "          inicio = time()\n",
        "          resultados.append(f(*args, **kwargs))\n",
        "          tiempos.append(time() - inicio)\n",
        "        print(\"Tiempo de ejecución promedio de la funcion '\" + str(f.__name__)+\"'  es : \"+str(sum(tiempos)/len(tiempos)))\n",
        "        print(\"Tiempo de ejecución maximo de la funcion '\" + str(f.__name__)+\"'  es : \"+str(max(tiempos)))\n",
        "        print(\"Tiempo de ejecución minimo de la funcion '\" + str(f.__name__)+\"'  es : \"+str(min(tiempos)))\n",
        "        print(\"----\")\n",
        "        \n",
        "    return wrapper"
      ],
      "execution_count": 0,
      "outputs": []
    },
    {
      "metadata": {
        "id": "KZbXp38MFUqo",
        "colab_type": "code",
        "colab": {
          "base_uri": "https://localhost:8080/",
          "height": 207
        },
        "outputId": "7fa508c2-96c1-4375-92b2-48fb6c56fae1"
      },
      "cell_type": "code",
      "source": [
        "#quick sort\n",
        "\n",
        "import random\n",
        "A=random.sample(range(1,1000), 50)\n",
        "print(\"La lista a ordenar es: \" +str(A))\n",
        "print(\"\")\n",
        "\n",
        "def quick_sort(lista_a_ordenar):\n",
        "  if len(lista_a_ordenar)==1:\n",
        "    return lista_a_ordenar\n",
        "  if len(lista_a_ordenar)==2:\n",
        "    return [min(lista_a_ordenar),max(lista_a_ordenar)]\n",
        "  I=[]\n",
        "  D=[]\n",
        "  pivote = (lista_a_ordenar[0]+lista_a_ordenar[1]+lista_a_ordenar[2])/3\n",
        "  for i in lista_a_ordenar:\n",
        "    if i<pivote:\n",
        "      I.append(i)\n",
        "    else:\n",
        "      D.append(i)\n",
        "  return quick_sort(I) + quick_sort(D)    \n",
        "\n",
        "@calcular_tiempo_promedio\n",
        "def python_sort(lista_a_ordenar):\n",
        "  return lista_a_ordenar.sort()\n",
        "\n",
        "\n",
        "\n",
        "@calcular_tiempo_promedio\n",
        "def quick_sort_wrapper(lista_a_ordenar):\n",
        "    quick_sort(lista_a_ordenar)\n",
        "    \n",
        "quick_sort_wrapper(A)\n",
        "python_sort(A)\n",
        "  "
      ],
      "execution_count": 89,
      "outputs": [
        {
          "output_type": "stream",
          "text": [
            "La lista a ordenar es: [44, 785, 357, 496, 513, 372, 692, 176, 39, 675, 412, 901, 94, 344, 850, 29, 458, 772, 642, 328, 567, 510, 956, 331, 109, 56, 984, 450, 113, 610, 415, 966, 876, 167, 287, 471, 157, 7, 939, 978, 882, 570, 648, 4, 868, 506, 580, 222, 861, 93]\n",
            "\n",
            "Tiempo de ejecución promedio de la funcion 'quick_sort_wrapper'  es : 9.003376960754395e-05\n",
            "Tiempo de ejecución maximo de la funcion 'quick_sort_wrapper'  es : 0.0014019012451171875\n",
            "Tiempo de ejecución minimo de la funcion 'quick_sort_wrapper'  es : 7.867813110351562e-05\n",
            "----\n",
            "Tiempo de ejecución promedio de la funcion 'python_sort'  es : 1.0101795196533203e-06\n",
            "Tiempo de ejecución maximo de la funcion 'python_sort'  es : 2.4318695068359375e-05\n",
            "Tiempo de ejecución minimo de la funcion 'python_sort'  es : 7.152557373046875e-07\n",
            "----\n"
          ],
          "name": "stdout"
        }
      ]
    },
    {
      "metadata": {
        "id": "hwbGhM9pMoVC",
        "colab_type": "code",
        "colab": {
          "base_uri": "https://localhost:8080/",
          "height": 153
        },
        "outputId": "78a3af5d-fc50-4a43-f8c1-10140129dedf"
      },
      "cell_type": "code",
      "source": [
        "\n",
        "@calcular_tiempo_promedio\n",
        "def cambio_monedas(CANTIDAD,SISTEMA=[25,10,5,1]):\n",
        "  SOLUCION=[0 for i in range(len(SISTEMA))]\n",
        "  VALOR_ACUMULADO=0\n",
        "  for i in range(len(SISTEMA)):\n",
        "      monedas=int((CANTIDAD - VALOR_ACUMULADO)/SISTEMA[i])\n",
        "      SOLUCION[i] = monedas\n",
        "      VALOR_ACUMULADO += monedas*SISTEMA[i]\n",
        "      if CANTIDAD == VALOR_ACUMULADO:\n",
        "        #print(SOLUCION)\n",
        "        return SOLUCION\n",
        "      \n",
        "def cambio_monedas_recursiva(CANTIDAD,SISTEMA=[25,10,5,1],SOLUCION=0, NIVEL=0):\n",
        "  if SOLUCION ==0:\n",
        "    SOLUCION=[0 for i in range(len(SISTEMA))]\n",
        "  NUEVA_CANTIDAD=CANTIDAD-SISTEMA[NIVEL]\n",
        "  if NUEVA_CANTIDAD==0:\n",
        "    SOLUCION[NIVEL]+=1\n",
        "    #print(SOLUCION)\n",
        "    return SOLUCION\n",
        "  if NUEVA_CANTIDAD>0:\n",
        "    SOLUCION[NIVEL]+=1\n",
        "    cambio_monedas_v2(NUEVA_CANTIDAD,SISTEMA,SOLUCION, NIVEL )\n",
        "  if NUEVA_CANTIDAD<0:\n",
        "    cambio_monedas_v2(CANTIDAD,SISTEMA,SOLUCION, NIVEL+1 )\n",
        "      \n",
        "\n",
        "      \n",
        "@calcular_tiempo_promedio\n",
        "def cambio_monedas_recursiva_wrapper(C):\n",
        "  cambio_monedas_recursiva(C)\n",
        "      \n",
        "    \n",
        "cambio_monedas(1080)\n",
        "cambio_monedas_recursiva_wrapper(1080)"
      ],
      "execution_count": 90,
      "outputs": [
        {
          "output_type": "stream",
          "text": [
            "Tiempo de ejecución promedio de la funcion 'cambio_monedas'  es : 2.8421878814697264e-06\n",
            "Tiempo de ejecución maximo de la funcion 'cambio_monedas'  es : 0.00023317337036132812\n",
            "Tiempo de ejecución minimo de la funcion 'cambio_monedas'  es : 2.1457672119140625e-06\n",
            "----\n",
            "Tiempo de ejecución promedio de la funcion 'cambio_monedas_recursiva_wrapper'  es : 2.6024341583251952e-05\n",
            "Tiempo de ejecución maximo de la funcion 'cambio_monedas_recursiva_wrapper'  es : 0.0014889240264892578\n",
            "Tiempo de ejecución minimo de la funcion 'cambio_monedas_recursiva_wrapper'  es : 2.0265579223632812e-05\n",
            "----\n"
          ],
          "name": "stdout"
        }
      ]
    },
    {
      "metadata": {
        "id": "PAs-UuA4QEF9",
        "colab_type": "code",
        "colab": {
          "base_uri": "https://localhost:8080/",
          "height": 442
        },
        "outputId": "4c0d7061-4ab7-41fe-f0a9-7319fa179635"
      },
      "cell_type": "code",
      "source": [
        "\n",
        "def es_prometedora(solucion, etapa):\n",
        "  for i in range(etapa+1):\n",
        "    if solucion.count(solucion[i]) >1 :\n",
        "      return False\n",
        "    for j in range (i+1, etapa+1):\n",
        "      if abs(i-j) == abs(solucion[i]-solucion[j]):\n",
        "        return False\n",
        "  return True\n",
        "      \n",
        "      \n",
        "def escribe(S):\n",
        "  n = len(S)\n",
        "  for x in range(n):\n",
        "    print(\"\")\n",
        "    for i in range(n):\n",
        "      if solucion[i]==x+1:\n",
        "        print(\" X \", end=\"\")\n",
        "      else:\n",
        "        print(\" - \", end=\"\")\n",
        "  \n",
        "def reinas(N,solucion=0, etapa=0):\n",
        "  if solucion==0:\n",
        "      solucion=[0 for i in range(N)]\n",
        "  for i in range(1,N+1):\n",
        "    solucion[etapa]=i\n",
        "    if es_prometedora(solucion, etapa):\n",
        "      if etapa == N-1:\n",
        "        #print(\"\\n\\nLa solucion es:\")\n",
        "        #print(solucion)\n",
        "        #escribe(solucion)\n",
        "        pass\n",
        "      else:\n",
        "        reinas(N, solucion, etapa+1)\n",
        "    else:\n",
        "      None\n",
        "    solucion[etapa]=0\n",
        "    \n",
        "@calcular_tiempo_promedio\n",
        "def reinas_wrapper(N):\n",
        "    reinas(N)\n",
        "\n",
        "print(\"Solucion para N=4\")\n",
        "reinas_wrapper(4)\n",
        "print(\"Solucion para N=5\")\n",
        "reinas_wrapper(5)\n",
        "print(\"Solucion para N=6\")\n",
        "reinas_wrapper(6)\n",
        "print(\"Solucion para N=7\")\n",
        "reinas_wrapper(7)\n",
        "print(\"Solucion para N=8\")\n",
        "reinas_wrapper(8)\n",
        "\n",
        "\n"
      ],
      "execution_count": 100,
      "outputs": [
        {
          "output_type": "stream",
          "text": [
            "Solucion para N=4\n",
            "Tiempo de ejecución promedio de la funcion 'reinas_wrapper'  es : 0.00010996007919311524\n",
            "Tiempo de ejecución maximo de la funcion 'reinas_wrapper'  es : 0.000331878662109375\n",
            "Tiempo de ejecución minimo de la funcion 'reinas_wrapper'  es : 0.00010251998901367188\n",
            "----\n",
            "Solucion para N=5\n",
            "Tiempo de ejecución promedio de la funcion 'reinas_wrapper'  es : 0.0005153660774230957\n",
            "Tiempo de ejecución maximo de la funcion 'reinas_wrapper'  es : 0.0011820793151855469\n",
            "Tiempo de ejecución minimo de la funcion 'reinas_wrapper'  es : 0.0004904270172119141\n",
            "----\n",
            "Solucion para N=6\n",
            "Tiempo de ejecución promedio de la funcion 'reinas_wrapper'  es : 0.0026452302932739257\n",
            "Tiempo de ejecución maximo de la funcion 'reinas_wrapper'  es : 0.003931999206542969\n",
            "Tiempo de ejecución minimo de la funcion 'reinas_wrapper'  es : 0.0025777816772460938\n",
            "----\n",
            "Solucion para N=7\n",
            "Tiempo de ejecución promedio de la funcion 'reinas_wrapper'  es : 0.013011343002319336\n",
            "Tiempo de ejecución maximo de la funcion 'reinas_wrapper'  es : 0.0179293155670166\n",
            "Tiempo de ejecución minimo de la funcion 'reinas_wrapper'  es : 0.01271510124206543\n",
            "----\n",
            "Solucion para N=8\n",
            "Tiempo de ejecución promedio de la funcion 'reinas_wrapper'  es : 0.06988472414016723\n",
            "Tiempo de ejecución maximo de la funcion 'reinas_wrapper'  es : 0.07869315147399902\n",
            "Tiempo de ejecución minimo de la funcion 'reinas_wrapper'  es : 0.06855416297912598\n",
            "----\n"
          ],
          "name": "stdout"
        }
      ]
    }
  ]
}