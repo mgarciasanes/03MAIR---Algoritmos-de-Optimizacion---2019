{
  "nbformat": 4,
  "nbformat_minor": 0,
  "metadata": {
    "colab": {
      "name": "calcular_tiempo_promedio.ipynb",
      "version": "0.3.2",
      "provenance": [],
      "include_colab_link": true
    },
    "kernelspec": {
      "name": "python3",
      "display_name": "Python 3"
    }
  },
  "cells": [
    {
      "cell_type": "markdown",
      "metadata": {
        "id": "view-in-github",
        "colab_type": "text"
      },
      "source": [
        "<a href=\"https://colab.research.google.com/github/mgarciasanes/03MAIR---Algoritmos-de-Optimizacion---2019/blob/master/Utilidades/calcular_tiempo_promedio.ipynb\" target=\"_parent\"><img src=\"https://colab.research.google.com/assets/colab-badge.svg\" alt=\"Open In Colab\"/></a>"
      ]
    },
    {
      "metadata": {
        "id": "rEMM7Lec1Wy8",
        "colab_type": "code",
        "colab": {
          "base_uri": "https://localhost:8080/",
          "height": 139
        },
        "outputId": "a5ea745f-0bf8-49dd-c5d6-899b1c3f1f94"
      },
      "cell_type": "code",
      "source": [
        "from time import time\n",
        "def calcular_tiempo_promedio(f):   \n",
        "    def wrapper(*args, **kwargs):        \n",
        "        resultados=[]\n",
        "        tiempos=[]\n",
        "        for i in range(1000):\n",
        "          inicio = time()\n",
        "          resultados.append(f(*args, **kwargs))\n",
        "          tiempos.append(time() - inicio)\n",
        "        print(\"Tiempo de ejecución promedio de la funcion '\" + str(f.__name__)+\"'  es : \"+str(sum(tiempos)/len(tiempos)))\n",
        "        print(\"Tiempo de ejecución maximo de la funcion '\" + str(f.__name__)+\"'  es : \"+str(max(tiempos)))\n",
        "        print(\"Tiempo de ejecución minimo de la funcion '\" + str(f.__name__)+\"'  es : \"+str(min(tiempos)))\n",
        "        print(\"----\")\n",
        "        \n",
        "    return wrapper\n",
        "  \n",
        "import random\n",
        "A=random.sample(range(1,1000), 50)\n",
        "print(\"La lista a ordenar es: \" +str(A))\n",
        "print(\"\")\n",
        "\n",
        "@calcular_tiempo_promedio\n",
        "def python_sort(lista_a_ordenar):\n",
        "  return lista_a_ordenar.sort()\n",
        "\n",
        "   \n",
        "python_sort(A)\n",
        "\n"
      ],
      "execution_count": 1,
      "outputs": [
        {
          "output_type": "stream",
          "text": [
            "La lista a ordenar es: [7, 24, 266, 470, 396, 694, 574, 840, 759, 621, 3, 353, 490, 771, 375, 591, 661, 146, 969, 315, 602, 547, 599, 81, 666, 449, 884, 181, 810, 380, 63, 59, 30, 72, 374, 510, 138, 965, 262, 677, 863, 192, 446, 326, 902, 193, 249, 483, 895, 332]\n",
            "\n",
            "Tiempo de ejecución promedio de la funcion 'python_sort'  es : 3.0982494354248045e-06\n",
            "Tiempo de ejecución maximo de la funcion 'python_sort'  es : 0.0005936622619628906\n",
            "Tiempo de ejecución minimo de la funcion 'python_sort'  es : 9.5367431640625e-07\n",
            "----\n"
          ],
          "name": "stdout"
        }
      ]
    }
  ]
}