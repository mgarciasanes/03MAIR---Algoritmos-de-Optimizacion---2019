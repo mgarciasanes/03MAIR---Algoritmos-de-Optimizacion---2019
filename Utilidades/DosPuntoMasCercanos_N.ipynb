{
  "nbformat": 4,
  "nbformat_minor": 0,
  "metadata": {
    "colab": {
      "name": "DosPuntoMasCercanos_N.ipynb",
      "version": "0.3.2",
      "provenance": [],
      "include_colab_link": true
    },
    "kernelspec": {
      "name": "python3",
      "display_name": "Python 3"
    }
  },
  "cells": [
    {
      "cell_type": "markdown",
      "metadata": {
        "id": "view-in-github",
        "colab_type": "text"
      },
      "source": [
        "<a href=\"https://colab.research.google.com/github/mgarciasanes/03MAIR---Algoritmos-de-Optimizacion---2019/blob/master/Utilidades/DosPuntoMasCercanos_N.ipynb\" target=\"_parent\"><img src=\"https://colab.research.google.com/assets/colab-badge.svg\" alt=\"Open In Colab\"/></a>"
      ]
    },
    {
      "metadata": {
        "id": "akFOTWd3XQd3",
        "colab_type": "code",
        "colab": {}
      },
      "cell_type": "code",
      "source": [
        "def calcular_tiempo_promedio(f):   \n",
        "    def wrapper(*args, **kwargs):        \n",
        "        resultados=[]\n",
        "        tiempos=[]\n",
        "        for i in range(10):\n",
        "          inicio = time()\n",
        "          resultados.append(f(*args, **kwargs))\n",
        "          tiempos.append(time() - inicio)\n",
        "        print(\"Tiempo de ejecución promedio de la funcion '\" + str(f.__name__)+\"'  es : \"+str(sum(tiempos)/len(tiempos)))\n",
        "        print(\"Tiempo de ejecución maximo de la funcion '\" + str(f.__name__)+\"'  es : \"+str(max(tiempos)))\n",
        "        print(\"Tiempo de ejecución minimo de la funcion '\" + str(f.__name__)+\"'  es : \"+str(min(tiempos)))\n",
        "        print(\"----\")\n",
        "        \n",
        "    return wrapper"
      ],
      "execution_count": 0,
      "outputs": []
    },
    {
      "metadata": {
        "id": "mwzm_zfRXVw7",
        "colab_type": "code",
        "colab": {}
      },
      "cell_type": "code",
      "source": [
        "import numpy as np\n",
        "\n",
        "  \n",
        "def puntos_mar_cercanos_fuerza_bruta_n(ARREGLO):\n",
        "    if len(ARREGLO)<=1:\n",
        "      return 0,[0,0]\n",
        "    puntos_mas_cercanos={'p1':0,'p2':0,'distancia_menor':1000000}\n",
        "    for i in range(ARREGLO.shape[0]):\n",
        "      for ii in range(ARREGLO[i+1:].shape[0]):\n",
        "        distancia=np.linalg.norm(ARREGLO[i]-ARREGLO[i+1:][ii])\n",
        "        if distancia < puntos_mas_cercanos['distancia_menor']:\n",
        "          puntos_mas_cercanos={'p1':ARREGLO[i],'p2':ARREGLO[i+1:][ii],'distancia_menor':distancia}   \n",
        "    return puntos_mas_cercanos['distancia_menor'],[puntos_mas_cercanos['p1'],puntos_mas_cercanos['p2']]\n",
        "  \n",
        "  \n",
        "  \n",
        "def puntos_mar_cercanos_divide_venceras_n(ARREGLO):\n",
        "  \n",
        "  #print(\"Input:\" +str(ARREGLO))\n",
        "  if len(ARREGLO)<=4:\n",
        "    return puntos_mar_cercanos_fuerza_bruta_n(ARREGLO)\n",
        "  \n",
        "  pivote = np.median(ARREGLO[:,0])\n",
        "  #print(\"Pivote:\" + str(pivote))\n",
        "  G1=np.empty((0,ARREGLO.shape[1]), int)\n",
        "  G2=np.empty((0,ARREGLO.shape[1]), int)\n",
        " \n",
        "  for i in ARREGLO:\n",
        "    if i[0]<=pivote:\n",
        "      G1=np.append(G1, np.array([i]), axis=0)      \n",
        "    else:\n",
        "      G2=np.append(G2, np.array([i]), axis=0)\n",
        "      \n",
        "  #print(\"G1:\" +str(G1))\n",
        "  #print(\"G2:\" +str(G2))\n",
        "\n",
        "  if len(G1)>=2 and len(G2)>=2:    \n",
        "    distancia_minima_g1,p1=puntos_mar_cercanos_divide_venceras_n(G1)\n",
        "    distancia_minima_g2,p2=puntos_mar_cercanos_divide_venceras_n(G2)\n",
        "  else:\n",
        "    return puntos_mar_cercanos_fuerza_bruta_n(ARREGLO)\n",
        "   \n",
        "  if distancia_minima_g1<distancia_minima_g2:\n",
        "    distancia_minima_de_g1_g2=distancia_minima_g1\n",
        "    p=p1\n",
        "  else:\n",
        "    distancia_minima_de_g1_g2=distancia_minima_g2\n",
        "    p=p2\n",
        "    \n",
        "  interseccion=np.empty((0,ARREGLO.shape[1]), int)\n",
        "  g1_cerca=False\n",
        "  g2_cerca=False\n",
        "  for i in G1:\n",
        "      if abs(pivote-i[0])<distancia_minima_de_g1_g2/2:\n",
        "        interseccion=np.append(interseccion, np.array([i]), axis=0)\n",
        "        g1_cerca=True\n",
        "  for i in G2:\n",
        "      if abs(i[0]-pivote)<distancia_minima_de_g1_g2/2:\n",
        "        interseccion=np.append(interseccion, np.array([i]), axis=0)\n",
        "        g2_cerca=True\n",
        "  if g1_cerca and g2_cerca:\n",
        "      if (len(G1)+len(G2) > len(interseccion) and len(interseccion)>4):\n",
        "          minima_distancia_interseccion,p_int=puntos_mar_cercanos_divide_venceras_n(interseccion)\n",
        "      else:\n",
        "          minima_distancia_interseccion,p_int=puntos_mar_cercanos_fuerza_bruta_n(interseccion)\n",
        "      if minima_distancia_interseccion < distancia_minima_de_g1_g2:\n",
        "        return minima_distancia_interseccion,p_int\n",
        "      else:\n",
        "        return distancia_minima_de_g1_g2,p\n",
        "  else:\n",
        "      return distancia_minima_de_g1_g2,p\n",
        "  \n",
        "\n"
      ],
      "execution_count": 0,
      "outputs": []
    },
    {
      "metadata": {
        "id": "m5UjMx_Lb5do",
        "colab_type": "code",
        "colab": {
          "base_uri": "https://localhost:8080/",
          "height": 629
        },
        "outputId": "3c05b8dd-7842-4846-e054-f8575b805903"
      },
      "cell_type": "code",
      "source": [
        "def puntos_mas_cercanos(cantidad_puntos=100,dimension=1,algoritmo=\"todas\",imprimir=True):\n",
        "    vector=np.random.randint(1000, size=(cantidad_puntos, dimension))\n",
        "    vector=vector[vector[:,0].argsort()]\n",
        "    if imprimir:\n",
        "      print(\"-------------------------------------\")\n",
        "    if algoritmo==\"todas\" or algoritmo==\"fuerza_bruta\":\n",
        "      distancia,puntos=puntos_mar_cercanos_fuerza_bruta_n(vector)\n",
        "      if imprimir:\n",
        "        print(\"Calculando los puntos mas cercanos en un arreglo de dimension \" + str(dimension) + \" y con \" + str(cantidad_puntos) + \" puntos con el algoritmo de FUERZA BRUTA\")\n",
        "        print(\"La menor distancia es: \" + str(distancia))\n",
        "        print(\"Los puntos son: \" + str(puntos))\n",
        "    if algoritmo==\"todas\" or algoritmo==\"fuerza_bruta\":  \n",
        "      distancia,puntos=puntos_mar_cercanos_divide_venceras_n(vector)\n",
        "      if imprimir:\n",
        "        print(\"Calculando los puntos mas cercanos en un arreglo de dimension \" + str(dimension) + \" y con \" + str(cantidad_puntos) + \" puntos con el algoritmo de DIVIDE Y VENCERAS\")\n",
        "        print(\"La menor distancia es: \" + str(distancia))\n",
        "        print(\"Los puntos son: \" + str(puntos))\n",
        "    if imprimir:\n",
        "      print(\"\")\n",
        "      print(\"\")\n",
        "  \n",
        "  \n",
        "puntos_mas_cercanos(cantidad_puntos=1000,dimension=1)\n",
        "puntos_mas_cercanos(cantidad_puntos=1000,dimension=2)\n",
        "puntos_mas_cercanos(cantidad_puntos=1000,dimension=3)\n",
        "puntos_mas_cercanos(cantidad_puntos=1000,dimension=4)"
      ],
      "execution_count": 44,
      "outputs": [
        {
          "output_type": "stream",
          "text": [
            "-------------------------------------\n",
            "Calculando los puntos mas cercanos en un arreglo de dimension 1 y con 1000 puntos con el algoritmo de FUERZA BRUTA\n",
            "La menor distancia es: 0.0\n",
            "Los puntos son: [array([0]), array([0])]\n",
            "Calculando los puntos mas cercanos en un arreglo de dimension 1 y con 1000 puntos con el algoritmo de DIVIDE Y VENCERAS\n",
            "La menor distancia es: 0.0\n",
            "Los puntos son: [array([994]), array([994])]\n",
            "\n",
            "\n",
            "-------------------------------------\n",
            "Calculando los puntos mas cercanos en un arreglo de dimension 2 y con 1000 puntos con el algoritmo de FUERZA BRUTA\n",
            "La menor distancia es: 0.0\n",
            "Los puntos son: [array([545, 587]), array([545, 587])]\n",
            "Calculando los puntos mas cercanos en un arreglo de dimension 2 y con 1000 puntos con el algoritmo de DIVIDE Y VENCERAS\n",
            "La menor distancia es: 0.0\n",
            "Los puntos son: [array([545, 587]), array([545, 587])]\n",
            "\n",
            "\n",
            "-------------------------------------\n",
            "Calculando los puntos mas cercanos en un arreglo de dimension 3 y con 1000 puntos con el algoritmo de FUERZA BRUTA\n",
            "La menor distancia es: 7.3484692283495345\n",
            "Los puntos son: [array([  4, 726, 633]), array([  5, 733, 631])]\n",
            "Calculando los puntos mas cercanos en un arreglo de dimension 3 y con 1000 puntos con el algoritmo de DIVIDE Y VENCERAS\n",
            "La menor distancia es: 7.3484692283495345\n",
            "Los puntos son: [array([  4, 726, 633]), array([  5, 733, 631])]\n",
            "\n",
            "\n",
            "-------------------------------------\n",
            "Calculando los puntos mas cercanos en un arreglo de dimension 4 y con 1000 puntos con el algoritmo de FUERZA BRUTA\n",
            "La menor distancia es: 21.540659228538015\n",
            "Los puntos son: [array([965, 256, 384, 126]), array([973, 256, 400, 138])]\n",
            "Calculando los puntos mas cercanos en un arreglo de dimension 4 y con 1000 puntos con el algoritmo de DIVIDE Y VENCERAS\n",
            "La menor distancia es: 21.540659228538015\n",
            "Los puntos son: [array([965, 256, 384, 126]), array([973, 256, 400, 138])]\n",
            "\n",
            "\n"
          ],
          "name": "stdout"
        }
      ]
    },
    {
      "metadata": {
        "id": "_VGMTZ1jb2Jo",
        "colab_type": "code",
        "colab": {
          "base_uri": "https://localhost:8080/",
          "height": 357
        },
        "outputId": "726fc93b-7d27-46ab-d754-c12c3c3dfb63"
      },
      "cell_type": "code",
      "source": [
        "@calcular_tiempo_promedio\n",
        "def puntos_mas_cercanos_wrapper(cantidad_puntos=100,dimension=1,algoritmo=\"todas\",imprimir=False):\n",
        "  return puntos_mas_cercanos(cantidad_puntos=cantidad_puntos,dimension=dimension,algoritmo=algoritmo,imprimir=imprimir)\n",
        "\n",
        "puntos_mas_cercanos_wrapper(cantidad_puntos=1000,dimension=1,algoritmo=\"fuerza_bruta\")\n",
        "puntos_mas_cercanos_wrapper(cantidad_puntos=2000,dimension=1,algoritmo=\"fuerza_bruta\")\n",
        "puntos_mas_cercanos_wrapper(cantidad_puntos=1000,dimension=4,algoritmo=\"divide_venceras\")\n",
        "puntos_mas_cercanos_wrapper(cantidad_puntos=2000,dimension=4,algoritmo=\"divide_venceras\")\n",
        "puntos_mas_cercanos_wrapper(cantidad_puntos=5000,dimension=4,algoritmo=\"divide_venceras\")"
      ],
      "execution_count": 46,
      "outputs": [
        {
          "output_type": "stream",
          "text": [
            "Tiempo de ejecución promedio de la funcion 'puntos_mas_cercanos_wrapper'  es : 3.06396598815918\n",
            "Tiempo de ejecución maximo de la funcion 'puntos_mas_cercanos_wrapper'  es : 3.097459316253662\n",
            "Tiempo de ejecución minimo de la funcion 'puntos_mas_cercanos_wrapper'  es : 3.0300703048706055\n",
            "----\n",
            "Tiempo de ejecución promedio de la funcion 'puntos_mas_cercanos_wrapper'  es : 12.344510531425476\n",
            "Tiempo de ejecución maximo de la funcion 'puntos_mas_cercanos_wrapper'  es : 12.6406729221344\n",
            "Tiempo de ejecución minimo de la funcion 'puntos_mas_cercanos_wrapper'  es : 12.195168018341064\n",
            "----\n",
            "Tiempo de ejecución promedio de la funcion 'puntos_mas_cercanos_wrapper'  es : 0.7517757654190064\n",
            "Tiempo de ejecución maximo de la funcion 'puntos_mas_cercanos_wrapper'  es : 0.8552932739257812\n",
            "Tiempo de ejecución minimo de la funcion 'puntos_mas_cercanos_wrapper'  es : 0.6285529136657715\n",
            "----\n",
            "Tiempo de ejecución promedio de la funcion 'puntos_mas_cercanos_wrapper'  es : 2.267349910736084\n",
            "Tiempo de ejecución maximo de la funcion 'puntos_mas_cercanos_wrapper'  es : 2.6084232330322266\n",
            "Tiempo de ejecución minimo de la funcion 'puntos_mas_cercanos_wrapper'  es : 1.9256558418273926\n",
            "----\n",
            "Tiempo de ejecución promedio de la funcion 'puntos_mas_cercanos_wrapper'  es : 8.292141652107238\n",
            "Tiempo de ejecución maximo de la funcion 'puntos_mas_cercanos_wrapper'  es : 8.77143931388855\n",
            "Tiempo de ejecución minimo de la funcion 'puntos_mas_cercanos_wrapper'  es : 7.338951826095581\n",
            "----\n"
          ],
          "name": "stdout"
        }
      ]
    }
  ]
}